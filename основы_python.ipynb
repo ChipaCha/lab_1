{
  "cells": [
    {
      "cell_type": "markdown",
      "metadata": {
        "id": "M-DGa20PaHnu"
      },
      "source": [
        "#Задача 1\n",
        "Написать функцию на вход которой подается строка, состоящая из латинских букв.\n",
        "Функция должна вернуть количество гласных букв (a, e, i, o, u, y) в этой строке. Написать тесты для кода"
      ]
    },
    {
      "cell_type": "code",
      "execution_count": 4,
      "metadata": {
        "id": "XvX8X_JJ6PCb"
      },
      "outputs": [
        {
          "name": "stdout",
          "output_type": "stream",
          "text": [
            "12\n"
          ]
        },
        {
          "data": {
            "text/plain": [
              "'\\nТесты:\\n\\nВвод:\\nHello world. I am robot\\nВывод:\\n7\\n\\nВвод:\\nAaBbYyUupOoIikLsEmmmMme\\nВывод:\\n12\\n'"
            ]
          },
          "execution_count": 4,
          "metadata": {},
          "output_type": "execute_result"
        }
      ],
      "source": [
        "# s - ввод данных\n",
        "s = input()\n",
        "# p - множество искомых символов (p-поиск)\n",
        "p = ('a', 'e', 'i', 'o', 'u', 'y')\n",
        "# счётчик найденных символов\n",
        "n=0\n",
        "\n",
        "# для каждого элемента в множестве p\n",
        "for i in p:\n",
        "    # и для каждого элемента в множестве s\n",
        "    # ! метод lower() необходио убрать, если важен регистр !\n",
        "    for j in s.lower():\n",
        "        # сравниваем их элементы по условию\n",
        "        if i == j:\n",
        "            # увеличиваем счётчик при удовлетворении условия\n",
        "            n+=1\n",
        "# вывод счётчика после проверки условий\n",
        "print(n)\n",
        "\n",
        "'''\n",
        "Тесты:\n",
        "\n",
        "Ввод:\n",
        "Hello world. I am robot\n",
        "Вывод:\n",
        "7\n",
        "\n",
        "Ввод:\n",
        "AaBbYyUupOoIikLsEmmmMme\n",
        "Вывод:\n",
        "12\n",
        "\n",
        "'''"
      ]
    },
    {
      "cell_type": "markdown",
      "metadata": {
        "id": "t2ClV_Y0bbr6"
      },
      "source": [
        "# Задача 2\n",
        "Написать функцию на вход, которой подается строка. Функция должна вернуть true, если\n",
        "каждый символ в строке встречается только 1 раз, иначе должна вернуть false. Написать тесты для кода"
      ]
    },
    {
      "cell_type": "code",
      "execution_count": 31,
      "metadata": {
        "id": "FppbECao6VIz"
      },
      "outputs": [
        {
          "name": "stdout",
          "output_type": "stream",
          "text": [
            "false\n"
          ]
        }
      ],
      "source": [
        "s = input()\n",
        "t = list(s)\n",
        "n=0\n",
        "m=0\n",
        "for i in t:\n",
        "    for j in s:\n",
        "        if i == j:\n",
        "            n+=1\n",
        "    if n>1:\n",
        "        m+=1\n",
        "    n=0\n",
        "\n",
        "if m > 0:\n",
        "    print(\"false\")\n",
        "else:\n",
        "    print(\"true\")\n",
        "\n",
        "\"\"\"\n",
        "Тесты:\n",
        "ввод: абвгдеёжзий\n",
        "вывод: true\n",
        "\n",
        "ввод: облом\n",
        "вывод: false"
      ]
    },
    {
      "cell_type": "markdown",
      "metadata": {
        "id": "udRiIK1cdt6E"
      },
      "source": [
        "# Задача 3\n",
        "Написать функцию, которая принимает положительное число и возвращает количество\n",
        "бит равных 1 в этом числе. Написать тесты для кода"
      ]
    },
    {
      "cell_type": "code",
      "execution_count": null,
      "metadata": {
        "id": "6tkfDJRz6dp_"
      },
      "outputs": [],
      "source": [
        "s = input()\n",
        "t=str(1)\n",
        "n=0\n",
        "for i in s:\n",
        "if i == t:\n",
        "n+=1\n",
        "n=bin(n)\n",
        "print(n[2:])\n",
        "\n",
        "\"\"\"\n",
        "Тесты:\n",
        "ввод: 123413341\n",
        "вывод: 11\n",
        "\n",
        "ввод: 11111111\n",
        "вывод: 1000\n",
        "\"\"\""
      ]
    },
    {
      "cell_type": "markdown",
      "metadata": {
        "id": "26dDUz-Ae17N"
      },
      "source": [
        "# Задача 4\n",
        "Написать функцию, которая принимает положительное число. Функция должна вернуть то,\n",
        "сколько раз необходимо перемножать цифры числа или результат перемножения, чтобы\n",
        "получилось число состоящее из одной цифры.\n",
        "Например, для входного числа:\n",
        "· 39 функция должна вернуть 3, так как 3*9=27 => 2*7=14 => 1*4=4\n",
        "· 4 функция должна вернуть 0, так как число уже состоит из одной цифры\n",
        "· 999 функция должна вернуть 4, так как 9*9*9=729 => 7*2*9=126 => 1*2*6=12 =>\n",
        "1*2=2. Написать тесты для кода"
      ]
    },
    {
      "cell_type": "code",
      "execution_count": null,
      "metadata": {
        "id": "BH1A_Mgi6i4G"
      },
      "outputs": [],
      "source": [
        "---"
      ]
    },
    {
      "cell_type": "markdown",
      "metadata": {
        "id": "0nS-kIa8g8vd"
      },
      "source": [
        "# Задача 5\n",
        "Написать функцию, которая принимает два целочисленных вектора одинаковой длины и\n",
        "возвращает среднеквадратическое отклонение двух векторов. Написать тесты для кода"
      ]
    },
    {
      "cell_type": "code",
      "execution_count": null,
      "metadata": {
        "id": "8iphx4LM6xbx"
      },
      "outputs": [],
      "source": [
        "---"
      ]
    },
    {
      "cell_type": "markdown",
      "metadata": {
        "id": "vpIPKL439zkw"
      },
      "source": [
        "# Задача 6\n",
        "Написать функцию, принимающая целое положительное число. Функция должна вернуть\n",
        "строку вида “(n1**p1)(n2**p2)…(nk**pk)” представляющая разложение числа на простые\n",
        "множители (если pi == 1, то выводить только ni).\n",
        "Например, для числа 86240 функция должна вернуть “(2**5)(5)(7**2)(11)”. Написать тесты для кода"
      ]
    },
    {
      "cell_type": "code",
      "execution_count": null,
      "metadata": {
        "id": "pFebmcZk94Jw"
      },
      "outputs": [],
      "source": [
        "??????"
      ]
    },
    {
      "cell_type": "markdown",
      "metadata": {
        "id": "ps2s0BudX7A2"
      },
      "source": [
        "# Задача 7\n",
        "Написать функцию, принимающая целое число n, задающее количество кубиков. Функция\n",
        "должна определить, можно ли из данного кол-ва кубиков построить пирамиду, то есть\n",
        "можно ли представить число n как 1^2+2^2+3^2+…+k^2. Если можно, то функция должна\n",
        "вернуть k, иначе строку “It is impossible”. Написать тесты для кода"
      ]
    },
    {
      "cell_type": "code",
      "execution_count": null,
      "metadata": {
        "id": "3YPjEXxhX_YT"
      },
      "outputs": [],
      "source": [
        "---"
      ]
    },
    {
      "cell_type": "markdown",
      "metadata": {
        "id": "KeKgmIdAQMEJ"
      },
      "source": [
        "# Задача 8\n",
        "Функция принимает на вход положительное число и определяет является ли оно сбалансированным, т.е. сумма цифр до средних равна сумме цифр после. Средними в случае нечетного числа цифр считать одну цифру, в случае четного - две средних. Написать тесты для кода"
      ]
    },
    {
      "cell_type": "code",
      "execution_count": null,
      "metadata": {
        "id": "gMAAqtqlQrZt"
      },
      "outputs": [],
      "source": [
        "n = list(input())\n",
        "q=[]\n",
        "for i in n:\n",
        "    q.append(int(i))\n",
        "s=round(len(n)/2)\n",
        "\n",
        "d=sum(q[s:])\n",
        "b=sum(q[:s])\n",
        "\n",
        "if b == d:\n",
        "    print(\"true\")\n",
        "else:\n",
        "    print(\"false\")\n",
        "\n",
        "\"\"\"\n",
        "тесты\n",
        "\n",
        "ввод: 1234567\n",
        "вывод: false\n",
        "\n",
        "ввод: 12344321\n",
        "вывод: true\n",
        "\"\"\""
      ]
    }
  ],
  "metadata": {
    "colab": {
      "provenance": []
    },
    "kernelspec": {
      "display_name": "Python 3 (ipykernel)",
      "language": "python",
      "name": "python3"
    },
    "language_info": {
      "codemirror_mode": {
        "name": "ipython",
        "version": 3
      },
      "file_extension": ".py",
      "mimetype": "text/x-python",
      "name": "python",
      "nbconvert_exporter": "python",
      "pygments_lexer": "ipython3",
      "version": "3.12.1"
    }
  },
  "nbformat": 4,
  "nbformat_minor": 0
}
