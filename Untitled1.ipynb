{
  "nbformat": 4,
  "nbformat_minor": 0,
  "metadata": {
    "colab": {
      "provenance": [],
      "authorship_tag": "ABX9TyNrSvsWjIgQ2e2Z1RCRFHNO",
      "include_colab_link": true
    },
    "kernelspec": {
      "name": "python3",
      "display_name": "Python 3"
    },
    "language_info": {
      "name": "python"
    }
  },
  "cells": [
    {
      "cell_type": "markdown",
      "metadata": {
        "id": "view-in-github",
        "colab_type": "text"
      },
      "source": [
        "<a href=\"https://colab.research.google.com/github/ChipaCha/lab_1/blob/main/Untitled1.ipynb\" target=\"_parent\"><img src=\"https://colab.research.google.com/assets/colab-badge.svg\" alt=\"Open In Colab\"/></a>"
      ]
    },
    {
      "cell_type": "markdown",
      "source": [
        "1. Написать функцию на вход которой подается строка, состоящая из латинских букв. Функция должна вернуть количество гласных букв (a, e, i, o, u, y) в этой строке. Написать тесты для кода\n"
      ],
      "metadata": {
        "id": "smTmwLbB75KC"
      }
    },
    {
      "cell_type": "code",
      "execution_count": 2,
      "metadata": {
        "colab": {
          "base_uri": "https://localhost:8080/",
          "height": 71
        },
        "id": "IiO-zmtV6NT9",
        "outputId": "4ad5cbd5-642f-42da-d0e2-1e2d348bf033"
      },
      "outputs": [
        {
          "output_type": "stream",
          "name": "stdout",
          "text": [
            "AaBbYyUupOoIikLsEmmmMme\n",
            "12\n"
          ]
        },
        {
          "output_type": "execute_result",
          "data": {
            "text/plain": [
              "'\\nТесты:\\n\\nВвод:\\nHello world. I am robot\\nВывод:\\n7\\n\\nВвод:\\nAaBbYyUupOoIikLsEmmmMme\\nВывод:\\n12\\n'"
            ],
            "application/vnd.google.colaboratory.intrinsic+json": {
              "type": "string"
            }
          },
          "metadata": {},
          "execution_count": 2
        }
      ],
      "source": [
        "#Написать функцию на вход которой подается строка, состоящая из латинских букв. Функция должна вернуть количество гласных букв (a, e, i, o, u, y) в этой строке. Написать тесты для кода\n",
        "\n",
        "# s - ввод данных\n",
        "s = input()\n",
        "# p - множество искомых символов (p-поиск)\n",
        "p = ('a', 'e', 'i', 'o', 'u', 'y')\n",
        "# счётчик найденных символов\n",
        "n=0\n",
        "\n",
        "# для каждого элемента в множестве p\n",
        "for i in p:\n",
        "    # и для каждого элемента в множестве s\n",
        "    # ! метод lower() необходио убрать, если важен регистр !\n",
        "    for j in s.lower():\n",
        "        # сравниваем их элементы по условию\n",
        "        if i == j:\n",
        "            # увеличиваем счётчик при удовлетворении условия\n",
        "            n+=1\n",
        "# вывод счётчика после проверки условий\n",
        "print(n)\n",
        "\n",
        "'''\n",
        "Тесты:\n",
        "\n",
        "Ввод:\n",
        "Hello world. I am robot\n",
        "Вывод:\n",
        "7\n",
        "\n",
        "Ввод:\n",
        "AaBbYyUupOoIikLsEmmmMme\n",
        "Вывод:\n",
        "12\n",
        "'''"
      ]
    },
    {
      "cell_type": "markdown",
      "source": [
        "2. Написать функцию на вход, которой подается строка. Функция должна вернуть true, если каждый символ в строке встречается только 1 раз, иначе должна вернуть false. Написать тесты для кода"
      ],
      "metadata": {
        "id": "z2CN4NsF8Dok"
      }
    },
    {
      "cell_type": "code",
      "source": [
        "s = input()\n",
        "t = list(s)\n",
        "n=0\n",
        "m=0\n",
        "for i in t:\n",
        "    for j in s:\n",
        "        if i == j:\n",
        "            n+=1\n",
        "    if n>1:\n",
        "        m+=1\n",
        "    n=0\n",
        "\n",
        "if m > 0:\n",
        "    print(\"false\")\n",
        "else:\n",
        "    print(\"true\")\n",
        "\n",
        "\"\"\"\n",
        "Тесты:\n",
        "ввод: абвгдеёжзий\n",
        "вывод: true\n",
        "\n",
        "ввод: облом\n",
        "вывод: false\n",
        "\"\"\""
      ],
      "metadata": {
        "colab": {
          "base_uri": "https://localhost:8080/",
          "height": 71
        },
        "id": "n0hK2OHo7RRV",
        "outputId": "a77d140c-b1e3-44ab-9e20-72ae2e380c83"
      },
      "execution_count": 4,
      "outputs": [
        {
          "output_type": "stream",
          "name": "stdout",
          "text": [
            "облом\n",
            "false\n"
          ]
        },
        {
          "output_type": "execute_result",
          "data": {
            "text/plain": [
              "'\\nТесты:\\nввод: абвгдеёжзий\\nвывод: true\\n\\nввод: облом\\nвывод: false\\n'"
            ],
            "application/vnd.google.colaboratory.intrinsic+json": {
              "type": "string"
            }
          },
          "metadata": {},
          "execution_count": 4
        }
      ]
    },
    {
      "cell_type": "markdown",
      "source": [
        "3. Написать функцию, которая принимает положительное число и возвращает количество бит равных 1 в этом числе. Написать тесты для кода"
      ],
      "metadata": {
        "id": "EClXZE548KfT"
      }
    },
    {
      "cell_type": "code",
      "source": [
        "s = input()\n",
        "t=str(1)\n",
        "n=0\n",
        "for i in s:\n",
        "  if i == t:\n",
        "    n+=1\n",
        "n=bin(n)\n",
        "print(n[2:])\n",
        "\n",
        "\"\"\"\n",
        "Тесты:\n",
        "ввод: 123413341\n",
        "вывод: 11\n",
        "\n",
        "ввод: 11111111\n",
        "вывод: 1000\n",
        "\"\"\""
      ],
      "metadata": {
        "colab": {
          "base_uri": "https://localhost:8080/",
          "height": 71
        },
        "id": "Y6PpfXok72-6",
        "outputId": "992869d1-b126-4cca-f605-c5a39e1ff695"
      },
      "execution_count": 10,
      "outputs": [
        {
          "output_type": "stream",
          "name": "stdout",
          "text": [
            "11111111\n",
            "1000\n"
          ]
        },
        {
          "output_type": "execute_result",
          "data": {
            "text/plain": [
              "'\\nТесты:\\nввод: 123413341\\nвывод: 11\\n\\nввод: 11111111\\nвывод: 1000\\n'"
            ],
            "application/vnd.google.colaboratory.intrinsic+json": {
              "type": "string"
            }
          },
          "metadata": {},
          "execution_count": 10
        }
      ]
    },
    {
      "cell_type": "markdown",
      "source": [
        "4. Написать функцию, которая принимает положительное число. Функция должна вернуть то, сколько раз необходимо перемножать цифры числа или результат перемножения, чтобы получилось число состоящее из одной цифры. Например, для входного числа: · 39 функция должна вернуть 3, так как 39=27 => 27=14 => 14=4 · 4 функция должна вернуть 0, так как число уже состоит из одной цифры · 999 функция должна вернуть 4, так как 999=729 => 729=126 => 126=12 => 12=2. Написать тесты для кода"
      ],
      "metadata": {
        "id": "AHIBlqyh8z-T"
      }
    },
    {
      "cell_type": "code",
      "source": [
        "from functools import reduce\n",
        "n=int(input(\"\"))\n",
        "b = 0\n",
        "while n > 9:\n",
        "    n = reduce(lambda x, y: x*int(y), str(n), 1)\n",
        "    b += 1\n",
        "print(b)\n",
        "\"\"\"\n",
        "999\n",
        "Вывод: 4\n",
        "\n",
        "39\n",
        "Вывод: 3\n",
        "\n",
        "Задача 5\n",
        "\"\"\""
      ],
      "metadata": {
        "id": "QPIya2ly84Ao"
      },
      "execution_count": null,
      "outputs": []
    },
    {
      "cell_type": "markdown",
      "source": [
        "5. Написать функцию, которая принимает два целочисленных вектора одинаковой длины и возвращает среднеквадратическое отклонение двух векторов. Написать тесты для кода."
      ],
      "metadata": {
        "id": "i2IPM-O688st"
      }
    },
    {
      "cell_type": "code",
      "source": [
        "import numpy as np\n",
        "\n",
        "a = np.array(input(\"Введите ветор типа (x y z)\").split()).astype(int)\n",
        "b = np.array(input(\"Введите ветор типа (x y z)\").split()).astype(int)\n",
        "\n",
        "sa3=(a[0] + b[0])/2\n",
        "ar3=(a[0]-sa3)**2\n",
        "br3=(b[0]-sa3)**2\n",
        "sr3=(ar3+br3)/2\n",
        "print(sr3**(0.5))\n",
        "\n",
        "sa1=(a[1] + b[1])/2\n",
        "ar1=(a[1]-sa1)**2\n",
        "br1=(b[1]-sa1)**2\n",
        "sr1=(ar1+br1)/2\n",
        "print(sr1**(0.5))\n",
        "\n",
        "sa2=(a[2] + b[2])/2\n",
        "ar2=(a[2]-sa2)**2\n",
        "br2=(b[2]-sa2)**2\n",
        "sr2=(ar2+br2)/2\n",
        "print(sr2**(0.5))\n",
        "\n",
        "\"\"\"\n",
        "Ввод:\n",
        "1 1 1\n",
        "1 1 1\n",
        "Вывод:\n",
        "0\n",
        "0\n",
        "0\n",
        "\n",
        "Ввод:\n",
        "1 2 3\n",
        "3 2 1\n",
        "Вывод:\n",
        "1\n",
        "0\n",
        "1\n",
        "\"\"\""
      ],
      "metadata": {
        "colab": {
          "base_uri": "https://localhost:8080/",
          "height": 125
        },
        "id": "zJs8X__s9Dl7",
        "outputId": "dddbe423-df95-4500-b294-5a4fd47572c9"
      },
      "execution_count": 14,
      "outputs": [
        {
          "output_type": "stream",
          "name": "stdout",
          "text": [
            "Введите ветор типа (x y z)1 2 3\n",
            "Введите ветор типа (x y z)3 2 1\n",
            "1.0\n",
            "0.0\n",
            "1.0\n"
          ]
        },
        {
          "output_type": "execute_result",
          "data": {
            "text/plain": [
              "'\\nВвод:\\n1 1 1\\n1 1 1\\nВывод:\\n0\\n0\\n0\\n\\nВвод:\\n1 2 3\\n3 2 1\\nВывод:\\n1\\n0\\n1\\n'"
            ],
            "application/vnd.google.colaboratory.intrinsic+json": {
              "type": "string"
            }
          },
          "metadata": {},
          "execution_count": 14
        }
      ]
    },
    {
      "cell_type": "markdown",
      "source": [
        "6. Написать функцию, принимающая целое положительное число. Функция должна вернуть строку вида “(n1p1)(n2p2)…(nkpk)” представляющая разложение числа на простые множители (если pi == 1, то выводить только ni). Например, для числа 86240 функция должна вернуть “(25)(5)(7**2)(11)”. Написать тесты для кода"
      ],
      "metadata": {
        "id": "rwttflmX9lO9"
      }
    },
    {
      "cell_type": "code",
      "source": [
        "import math\n",
        "\n",
        "number=int(input())\n",
        "\n",
        "factor = []\n",
        "for i in range(2, int(math.sqrt(number)) + 1): # обычно делитель не будет больше корня\n",
        "    if(number%i==0):\n",
        "        cnt = 0\n",
        "        while (number % i == 0):\n",
        "            number //= i\n",
        "            cnt+=1\n",
        "        factor.append((i, cnt))\n",
        "\n",
        "if (number != 1): factor.append((number, 1))\n",
        "\n",
        "b='*'.join(['%d^%d' % i for i in factor])\n",
        "d=\"^1\" in b\n",
        "if \"^1\" in b:\n",
        "    b=b.replace('^1',\"\")\n",
        "print(b)\n",
        "\n",
        "\"\"\"\n",
        "Ввод: 525\n",
        "Вывод: 3*5^2*7\n",
        "\n",
        "Ввод: 234\n",
        "Вывод: 2*3^2*13\n",
        "\"\"\""
      ],
      "metadata": {
        "colab": {
          "base_uri": "https://localhost:8080/",
          "height": 71
        },
        "id": "vB9TZk_W9qVv",
        "outputId": "d9b21f00-88a0-463d-d870-304275406688"
      },
      "execution_count": 16,
      "outputs": [
        {
          "output_type": "stream",
          "name": "stdout",
          "text": [
            "234\n",
            "2*3^2*13\n"
          ]
        },
        {
          "output_type": "execute_result",
          "data": {
            "text/plain": [
              "'\\nВвод: 525\\nВывод: 3*5^2*7\\n\\nВвод: 234\\nВывод: 2*3^2*13\\n'"
            ],
            "application/vnd.google.colaboratory.intrinsic+json": {
              "type": "string"
            }
          },
          "metadata": {},
          "execution_count": 16
        }
      ]
    },
    {
      "cell_type": "markdown",
      "source": [
        "7. Написать функцию, принимающая целое число n, задающее количество кубиков. Функция должна определить, можно ли из данного кол-ва кубиков построить пирамиду, то есть можно ли представить число n как 1^2+2^2+3^2+…+k^2. Если можно, то функция должна вернуть k, иначе строку “It is impossible”. Написать тесты для кода"
      ],
      "metadata": {
        "id": "40UdguaF98Li"
      }
    },
    {
      "cell_type": "code",
      "source": [
        "m=int(input())\n",
        "b=0\n",
        "n=0\n",
        "for i in range(1, m+1):\n",
        "    b+=i**2\n",
        "    if m==b:\n",
        "        print(i)\n",
        "        n=+1\n",
        "if n==0:\n",
        "    print(\"It is impossible\")\n",
        "\"\"\"\n",
        "Ввод: 30\n",
        "Вывод: 4\n",
        "\n",
        "Ввод: 3\n",
        "Вывод: It is impossible\n",
        "\"\"\""
      ],
      "metadata": {
        "colab": {
          "base_uri": "https://localhost:8080/",
          "height": 71
        },
        "id": "4GpJ4RIi-BU0",
        "outputId": "7b482b9b-9bda-4635-eaa9-882a5d739689"
      },
      "execution_count": 18,
      "outputs": [
        {
          "output_type": "stream",
          "name": "stdout",
          "text": [
            "3\n",
            "It is impossible\n"
          ]
        },
        {
          "output_type": "execute_result",
          "data": {
            "text/plain": [
              "'\\nВвод: 30\\nВывод: 4\\n\\nВвод: 3\\nВывод: It is impossible\\n'"
            ],
            "application/vnd.google.colaboratory.intrinsic+json": {
              "type": "string"
            }
          },
          "metadata": {},
          "execution_count": 18
        }
      ]
    },
    {
      "cell_type": "markdown",
      "source": [
        "8. Функция принимает на вход положительное число и определяет является ли оно сбалансированным, т.е. сумма цифр до средних равна сумме цифр после. Средними в случае нечетного числа цифр считать одну цифру, в случае четного - две средних. Написать тесты для кода"
      ],
      "metadata": {
        "id": "QX__FF65-IuI"
      }
    },
    {
      "cell_type": "code",
      "source": [
        "n = list(input())\n",
        "q=[]\n",
        "for i in n:\n",
        "    q.append(int(i))\n",
        "s=round(len(n)/2)\n",
        "\n",
        "d=sum(q[s:])\n",
        "b=sum(q[:s])\n",
        "\n",
        "if b == d:\n",
        "    print(\"true\")\n",
        "else:\n",
        "    print(\"false\")\n",
        "\n",
        "\"\"\"\n",
        "тесты\n",
        "\n",
        "ввод: 1234567\n",
        "вывод: false\n",
        "\n",
        "ввод: 12344321\n",
        "вывод: true\n",
        "\"\"\""
      ],
      "metadata": {
        "colab": {
          "base_uri": "https://localhost:8080/",
          "height": 71
        },
        "id": "yRwH-aFi-MTU",
        "outputId": "bc4b46df-2af1-4f92-80ff-ca713d33534a"
      },
      "execution_count": 20,
      "outputs": [
        {
          "output_type": "stream",
          "name": "stdout",
          "text": [
            "12344321\n",
            "true\n"
          ]
        },
        {
          "output_type": "execute_result",
          "data": {
            "text/plain": [
              "'\\nтесты\\n\\nввод: 1234567\\nвывод: false\\n\\nввод: 12344321\\nвывод: true\\n'"
            ],
            "application/vnd.google.colaboratory.intrinsic+json": {
              "type": "string"
            }
          },
          "metadata": {},
          "execution_count": 20
        }
      ]
    },
    {
      "cell_type": "markdown",
      "source": [
        "***Работа с NumPy***"
      ],
      "metadata": {
        "id": "Rgtscm6j-oIh"
      }
    },
    {
      "cell_type": "markdown",
      "source": [
        "Задача 1. Дан набор из\n",
        "матриц размерностью и векторов размерностью, найти сумму произведений матриц на векторы. Написать тесты для кода"
      ],
      "metadata": {
        "id": "GAkIj9b7-1ni"
      }
    },
    {
      "cell_type": "code",
      "source": [
        "import numpy as np\n",
        "\n",
        "p = int(input())\n",
        "n = int(input())\n",
        "M = np.ones((p,n,n))\n",
        "V = np.ones((p,n,1))\n",
        "S = np.tensordot(M, V, axes=[[0, 2], [0, 1]])\n",
        "print(S)\n",
        "\n",
        "\"\"\"\n",
        "\n",
        "\"\"\""
      ],
      "metadata": {
        "colab": {
          "base_uri": "https://localhost:8080/",
          "height": 214
        },
        "id": "k6ImTQTW-8i9",
        "outputId": "186e73d2-b296-4087-e38f-2f64aa5087bf"
      },
      "execution_count": 32,
      "outputs": [
        {
          "output_type": "stream",
          "name": "stdout",
          "text": [
            "6\n",
            "8\n",
            "[[48.]\n",
            " [48.]\n",
            " [48.]\n",
            " [48.]\n",
            " [48.]\n",
            " [48.]\n",
            " [48.]\n",
            " [48.]]\n"
          ]
        },
        {
          "output_type": "execute_result",
          "data": {
            "text/plain": [
              "'\\n\\n'"
            ],
            "application/vnd.google.colaboratory.intrinsic+json": {
              "type": "string"
            }
          },
          "metadata": {},
          "execution_count": 32
        }
      ]
    },
    {
      "cell_type": "markdown",
      "source": [
        "Задача 2. Дана матрица M, напишите функцию, которая бинаризует матрицу по некоторому threshold (то есть, все значения большие threshold становятся равными 1, иначе 0). Напишите тесты для кода\n"
      ],
      "metadata": {
        "id": "8yZp6T9WBmhB"
      }
    },
    {
      "cell_type": "code",
      "source": [
        "def binarize(M, threshold=0.5):\n",
        "    # Your code goes here\n",
        "    pass"
      ],
      "metadata": {
        "id": "KQTYMwK0BrVp"
      },
      "execution_count": null,
      "outputs": []
    }
  ]
}